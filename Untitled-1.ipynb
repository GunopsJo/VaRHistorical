{
 "cells": [
  {
   "cell_type": "code",
   "execution_count": 2,
   "id": "cf244a18",
   "metadata": {},
   "outputs": [],
   "source": [
    "import numpy as np\n",
    "import pandas as pd\n",
    "import datetime as dt\n",
    "import yfinance as yf\n",
    "import matplotlib.pylab as plt\n",
    "from scipy.stats import norm\n",
    "import math\n",
    "import seaborn as sns"
   ]
  },
  {
   "cell_type": "markdown",
   "id": "d5c53387",
   "metadata": {},
   "source": [
    "define the time horizon"
   ]
  },
  {
   "cell_type": "code",
   "execution_count": 27,
   "id": "07b684e2",
   "metadata": {},
   "outputs": [],
   "source": [
    "years = 2\n",
    "endDate = dt.datetime.now()\n",
    "startTime = endDate - dt.timedelta(days=365*years)\n",
    "\n"
   ]
  },
  {
   "cell_type": "markdown",
   "id": "29f17a62",
   "metadata": {},
   "source": [
    "000300.SS\n",
    "CYBU.AS iShares China CNY Bond UCITS ETFS"
   ]
  },
  {
   "cell_type": "code",
   "execution_count": 41,
   "id": "58c779a4",
   "metadata": {},
   "outputs": [],
   "source": [
    "tickers = ['000300.SS','CYBU.AS']"
   ]
  },
  {
   "cell_type": "markdown",
   "id": "35ef2ecb",
   "metadata": {},
   "source": [
    "tickers = ['000300.SS','CYBU.AS']\n"
   ]
  },
  {
   "cell_type": "markdown",
   "id": "416c527f",
   "metadata": {},
   "source": [
    "#create a framework for closed_Prices\n"
   ]
  },
  {
   "cell_type": "code",
   "execution_count": 42,
   "id": "4b6a49bd",
   "metadata": {},
   "outputs": [
    {
     "name": "stderr",
     "output_type": "stream",
     "text": [
      "C:\\Users\\Johnny\\AppData\\Local\\Temp\\ipykernel_3692\\1009066580.py:3: FutureWarning: YF.download() has changed argument auto_adjust default to True\n",
      "  data = yf.download(ticker,start = startTime, end=endDate)\n",
      "[*********************100%***********************]  1 of 1 completed\n",
      "C:\\Users\\Johnny\\AppData\\Local\\Temp\\ipykernel_3692\\1009066580.py:3: FutureWarning: YF.download() has changed argument auto_adjust default to True\n",
      "  data = yf.download(ticker,start = startTime, end=endDate)\n",
      "[*********************100%***********************]  1 of 1 completed\n"
     ]
    },
    {
     "data": {
      "text/html": [
       "<div>\n",
       "<style scoped>\n",
       "    .dataframe tbody tr th:only-of-type {\n",
       "        vertical-align: middle;\n",
       "    }\n",
       "\n",
       "    .dataframe tbody tr th {\n",
       "        vertical-align: top;\n",
       "    }\n",
       "\n",
       "    .dataframe thead th {\n",
       "        text-align: right;\n",
       "    }\n",
       "</style>\n",
       "<table border=\"1\" class=\"dataframe\">\n",
       "  <thead>\n",
       "    <tr style=\"text-align: right;\">\n",
       "      <th></th>\n",
       "      <th>000300.SS</th>\n",
       "      <th>CYBU.AS</th>\n",
       "    </tr>\n",
       "    <tr>\n",
       "      <th>Date</th>\n",
       "      <th></th>\n",
       "      <th></th>\n",
       "    </tr>\n",
       "  </thead>\n",
       "  <tbody>\n",
       "    <tr>\n",
       "      <th>2023-07-24</th>\n",
       "      <td>3805.219971</td>\n",
       "      <td>4.931875</td>\n",
       "    </tr>\n",
       "    <tr>\n",
       "      <th>2023-07-25</th>\n",
       "      <td>3915.120117</td>\n",
       "      <td>4.919816</td>\n",
       "    </tr>\n",
       "    <tr>\n",
       "      <th>2023-07-26</th>\n",
       "      <td>3907.010010</td>\n",
       "      <td>4.915032</td>\n",
       "    </tr>\n",
       "    <tr>\n",
       "      <th>2023-07-27</th>\n",
       "      <td>3902.350098</td>\n",
       "      <td>4.920008</td>\n",
       "    </tr>\n",
       "    <tr>\n",
       "      <th>2023-07-28</th>\n",
       "      <td>3992.739990</td>\n",
       "      <td>4.929578</td>\n",
       "    </tr>\n",
       "    <tr>\n",
       "      <th>...</th>\n",
       "      <td>...</td>\n",
       "      <td>...</td>\n",
       "    </tr>\n",
       "    <tr>\n",
       "      <th>2025-07-15</th>\n",
       "      <td>4019.060059</td>\n",
       "      <td>5.770400</td>\n",
       "    </tr>\n",
       "    <tr>\n",
       "      <th>2025-07-16</th>\n",
       "      <td>4007.199951</td>\n",
       "      <td>5.784600</td>\n",
       "    </tr>\n",
       "    <tr>\n",
       "      <th>2025-07-17</th>\n",
       "      <td>4034.489990</td>\n",
       "      <td>5.775000</td>\n",
       "    </tr>\n",
       "    <tr>\n",
       "      <th>2025-07-18</th>\n",
       "      <td>4058.550049</td>\n",
       "      <td>5.775100</td>\n",
       "    </tr>\n",
       "    <tr>\n",
       "      <th>2025-07-21</th>\n",
       "      <td>4085.607178</td>\n",
       "      <td>NaN</td>\n",
       "    </tr>\n",
       "  </tbody>\n",
       "</table>\n",
       "<p>483 rows × 2 columns</p>\n",
       "</div>"
      ],
      "text/plain": [
       "              000300.SS   CYBU.AS\n",
       "Date                             \n",
       "2023-07-24  3805.219971  4.931875\n",
       "2023-07-25  3915.120117  4.919816\n",
       "2023-07-26  3907.010010  4.915032\n",
       "2023-07-27  3902.350098  4.920008\n",
       "2023-07-28  3992.739990  4.929578\n",
       "...                 ...       ...\n",
       "2025-07-15  4019.060059  5.770400\n",
       "2025-07-16  4007.199951  5.784600\n",
       "2025-07-17  4034.489990  5.775000\n",
       "2025-07-18  4058.550049  5.775100\n",
       "2025-07-21  4085.607178       NaN\n",
       "\n",
       "[483 rows x 2 columns]"
      ]
     },
     "execution_count": 42,
     "metadata": {},
     "output_type": "execute_result"
    }
   ],
   "source": [
    "closePrices_df = pd.DataFrame()\n",
    "for ticker in tickers:\n",
    "    data = yf.download(ticker,start = startTime, end=endDate)\n",
    "    closePrices_df[ticker] = data[\"Close\"]\n",
    "closePrices_df"
   ]
  },
  {
   "cell_type": "markdown",
   "id": "a1504ac6",
   "metadata": {},
   "source": [
    "Through np.Log and df.shift to calculate portfolio's log return"
   ]
  },
  {
   "cell_type": "code",
   "execution_count": 30,
   "id": "279f0574",
   "metadata": {},
   "outputs": [],
   "source": [
    "logReturn = np.log(closePrices_df/closePrices_df.shift(1))"
   ]
  },
  {
   "cell_type": "code",
   "execution_count": 31,
   "id": "af1218cc",
   "metadata": {},
   "outputs": [
    {
     "data": {
      "text/html": [
       "<div>\n",
       "<style scoped>\n",
       "    .dataframe tbody tr th:only-of-type {\n",
       "        vertical-align: middle;\n",
       "    }\n",
       "\n",
       "    .dataframe tbody tr th {\n",
       "        vertical-align: top;\n",
       "    }\n",
       "\n",
       "    .dataframe thead th {\n",
       "        text-align: right;\n",
       "    }\n",
       "</style>\n",
       "<table border=\"1\" class=\"dataframe\">\n",
       "  <thead>\n",
       "    <tr style=\"text-align: right;\">\n",
       "      <th></th>\n",
       "      <th>000300.SS</th>\n",
       "      <th>CYBU.AS</th>\n",
       "    </tr>\n",
       "    <tr>\n",
       "      <th>Date</th>\n",
       "      <th></th>\n",
       "      <th></th>\n",
       "    </tr>\n",
       "  </thead>\n",
       "  <tbody>\n",
       "    <tr>\n",
       "      <th>2023-07-24</th>\n",
       "      <td>NaN</td>\n",
       "      <td>NaN</td>\n",
       "    </tr>\n",
       "    <tr>\n",
       "      <th>2023-07-25</th>\n",
       "      <td>0.028472</td>\n",
       "      <td>-0.002448</td>\n",
       "    </tr>\n",
       "    <tr>\n",
       "      <th>2023-07-26</th>\n",
       "      <td>-0.002074</td>\n",
       "      <td>-0.000973</td>\n",
       "    </tr>\n",
       "    <tr>\n",
       "      <th>2023-07-27</th>\n",
       "      <td>-0.001193</td>\n",
       "      <td>0.001012</td>\n",
       "    </tr>\n",
       "    <tr>\n",
       "      <th>2023-07-28</th>\n",
       "      <td>0.022899</td>\n",
       "      <td>0.001943</td>\n",
       "    </tr>\n",
       "    <tr>\n",
       "      <th>...</th>\n",
       "      <td>...</td>\n",
       "      <td>...</td>\n",
       "    </tr>\n",
       "    <tr>\n",
       "      <th>2025-07-15</th>\n",
       "      <td>0.000346</td>\n",
       "      <td>0.000503</td>\n",
       "    </tr>\n",
       "    <tr>\n",
       "      <th>2025-07-16</th>\n",
       "      <td>-0.002955</td>\n",
       "      <td>0.002458</td>\n",
       "    </tr>\n",
       "    <tr>\n",
       "      <th>2025-07-17</th>\n",
       "      <td>0.006787</td>\n",
       "      <td>-0.001661</td>\n",
       "    </tr>\n",
       "    <tr>\n",
       "      <th>2025-07-18</th>\n",
       "      <td>0.005946</td>\n",
       "      <td>0.000017</td>\n",
       "    </tr>\n",
       "    <tr>\n",
       "      <th>2025-07-21</th>\n",
       "      <td>0.006645</td>\n",
       "      <td>NaN</td>\n",
       "    </tr>\n",
       "  </tbody>\n",
       "</table>\n",
       "<p>483 rows × 2 columns</p>\n",
       "</div>"
      ],
      "text/plain": [
       "            000300.SS   CYBU.AS\n",
       "Date                           \n",
       "2023-07-24        NaN       NaN\n",
       "2023-07-25   0.028472 -0.002448\n",
       "2023-07-26  -0.002074 -0.000973\n",
       "2023-07-27  -0.001193  0.001012\n",
       "2023-07-28   0.022899  0.001943\n",
       "...               ...       ...\n",
       "2025-07-15   0.000346  0.000503\n",
       "2025-07-16  -0.002955  0.002458\n",
       "2025-07-17   0.006787 -0.001661\n",
       "2025-07-18   0.005946  0.000017\n",
       "2025-07-21   0.006645       NaN\n",
       "\n",
       "[483 rows x 2 columns]"
      ]
     },
     "execution_count": 31,
     "metadata": {},
     "output_type": "execute_result"
    }
   ],
   "source": [
    "logReturn"
   ]
  },
  {
   "attachments": {
    "image-2.png": {
     "image/png": "[encoded data removed]"
    }
   },
   "cell_type": "markdown",
   "id": "4edb33ec",
   "metadata": {},
   "source": [
    "Let's do a comparison with Excel\n",
    "![image-2.png](attachment:image-2.png)"
   ]
  },
  {
   "cell_type": "code",
   "execution_count": 32,
   "id": "a267c313",
   "metadata": {},
   "outputs": [],
   "source": [
    "closePrices_df.to_csv('closePrices_df.csv')"
   ]
  },
  {
   "cell_type": "markdown",
   "id": "f754ea4b",
   "metadata": {},
   "source": [
    "delete the NAs"
   ]
  },
  {
   "cell_type": "code",
   "execution_count": 34,
   "id": "d81221ac",
   "metadata": {},
   "outputs": [],
   "source": [
    "logReturn = logReturn.dropna()\n"
   ]
  },
  {
   "cell_type": "markdown",
   "id": "1c8c6f61",
   "metadata": {},
   "source": [
    "set an initial value for the portfolio"
   ]
  },
  {
   "cell_type": "code",
   "execution_count": 50,
   "id": "011267d3",
   "metadata": {},
   "outputs": [],
   "source": [
    "portfolio = 1000000"
   ]
  },
  {
   "cell_type": "markdown",
   "id": "4f924561",
   "metadata": {},
   "source": [
    "set the weight"
   ]
  },
  {
   "cell_type": "code",
   "execution_count": 43,
   "id": "93d95fc6",
   "metadata": {},
   "outputs": [],
   "source": [
    "weights = {\n",
    "    '000300.SS':0.6,\n",
    "    'CYBU.AS':0.4\n",
    "}\n"
   ]
  },
  {
   "cell_type": "markdown",
   "id": "d193483c",
   "metadata": {},
   "source": [
    "Multiply log return with the weights"
   ]
  },
  {
   "cell_type": "code",
   "execution_count": 44,
   "id": "b45172b9",
   "metadata": {},
   "outputs": [
    {
     "data": {
      "text/html": [
       "<div>\n",
       "<style scoped>\n",
       "    .dataframe tbody tr th:only-of-type {\n",
       "        vertical-align: middle;\n",
       "    }\n",
       "\n",
       "    .dataframe tbody tr th {\n",
       "        vertical-align: top;\n",
       "    }\n",
       "\n",
       "    .dataframe thead th {\n",
       "        text-align: right;\n",
       "    }\n",
       "</style>\n",
       "<table border=\"1\" class=\"dataframe\">\n",
       "  <thead>\n",
       "    <tr style=\"text-align: right;\">\n",
       "      <th></th>\n",
       "      <th>000300.SS</th>\n",
       "      <th>CYBU.AS</th>\n",
       "    </tr>\n",
       "    <tr>\n",
       "      <th>Date</th>\n",
       "      <th></th>\n",
       "      <th></th>\n",
       "    </tr>\n",
       "  </thead>\n",
       "  <tbody>\n",
       "    <tr>\n",
       "      <th>2023-07-25</th>\n",
       "      <td>0.017083</td>\n",
       "      <td>-0.000979</td>\n",
       "    </tr>\n",
       "    <tr>\n",
       "      <th>2023-07-26</th>\n",
       "      <td>-0.001244</td>\n",
       "      <td>-0.000389</td>\n",
       "    </tr>\n",
       "    <tr>\n",
       "      <th>2023-07-27</th>\n",
       "      <td>-0.000716</td>\n",
       "      <td>0.000405</td>\n",
       "    </tr>\n",
       "    <tr>\n",
       "      <th>2023-07-28</th>\n",
       "      <td>0.013739</td>\n",
       "      <td>0.000777</td>\n",
       "    </tr>\n",
       "    <tr>\n",
       "      <th>2023-07-31</th>\n",
       "      <td>0.003280</td>\n",
       "      <td>-0.000148</td>\n",
       "    </tr>\n",
       "    <tr>\n",
       "      <th>...</th>\n",
       "      <td>...</td>\n",
       "      <td>...</td>\n",
       "    </tr>\n",
       "    <tr>\n",
       "      <th>2025-07-14</th>\n",
       "      <td>0.000427</td>\n",
       "      <td>-0.000575</td>\n",
       "    </tr>\n",
       "    <tr>\n",
       "      <th>2025-07-15</th>\n",
       "      <td>0.000208</td>\n",
       "      <td>0.000201</td>\n",
       "    </tr>\n",
       "    <tr>\n",
       "      <th>2025-07-16</th>\n",
       "      <td>-0.001773</td>\n",
       "      <td>0.000983</td>\n",
       "    </tr>\n",
       "    <tr>\n",
       "      <th>2025-07-17</th>\n",
       "      <td>0.004072</td>\n",
       "      <td>-0.000664</td>\n",
       "    </tr>\n",
       "    <tr>\n",
       "      <th>2025-07-18</th>\n",
       "      <td>0.003568</td>\n",
       "      <td>0.000007</td>\n",
       "    </tr>\n",
       "  </tbody>\n",
       "</table>\n",
       "<p>469 rows × 2 columns</p>\n",
       "</div>"
      ],
      "text/plain": [
       "            000300.SS   CYBU.AS\n",
       "Date                           \n",
       "2023-07-25   0.017083 -0.000979\n",
       "2023-07-26  -0.001244 -0.000389\n",
       "2023-07-27  -0.000716  0.000405\n",
       "2023-07-28   0.013739  0.000777\n",
       "2023-07-31   0.003280 -0.000148\n",
       "...               ...       ...\n",
       "2025-07-14   0.000427 -0.000575\n",
       "2025-07-15   0.000208  0.000201\n",
       "2025-07-16  -0.001773  0.000983\n",
       "2025-07-17   0.004072 -0.000664\n",
       "2025-07-18   0.003568  0.000007\n",
       "\n",
       "[469 rows x 2 columns]"
      ]
     },
     "execution_count": 44,
     "metadata": {},
     "output_type": "execute_result"
    }
   ],
   "source": [
    "Logreturn2 = logReturn.multiply(pd.Series(weights),axis=1)\n",
    "Logreturn2"
   ]
  },
  {
   "cell_type": "markdown",
   "id": "181bbb65",
   "metadata": {},
   "source": [
    "Adding up the weighted values from two financial products that we chose"
   ]
  },
  {
   "cell_type": "code",
   "execution_count": 45,
   "id": "f1ab82b9",
   "metadata": {},
   "outputs": [
    {
     "data": {
      "text/plain": [
       "Date\n",
       "2023-07-25    0.016104\n",
       "2023-07-26   -0.001633\n",
       "2023-07-27   -0.000311\n",
       "2023-07-28    0.014517\n",
       "2023-07-31    0.003133\n",
       "                ...   \n",
       "2025-07-14   -0.000148\n",
       "2025-07-15    0.000409\n",
       "2025-07-16   -0.000790\n",
       "2025-07-17    0.003408\n",
       "2025-07-18    0.003574\n",
       "Length: 469, dtype: float64"
      ]
     },
     "execution_count": 45,
     "metadata": {},
     "output_type": "execute_result"
    }
   ],
   "source": [
    "portfolioLogreturn = Logreturn2.sum(axis =1)\n",
    "portfolioLogreturn"
   ]
  },
  {
   "cell_type": "markdown",
   "id": "114839af",
   "metadata": {},
   "source": [
    "Set up the time range for VaR we want to calculate\n",
    "Assuming for ten days"
   ]
  },
  {
   "cell_type": "code",
   "execution_count": 51,
   "id": "feb8f745",
   "metadata": {},
   "outputs": [
    {
     "data": {
      "text/plain": [
       "Date\n",
       "2023-08-07    0.029636\n",
       "2023-08-08    0.011382\n",
       "2023-08-09    0.011799\n",
       "2023-08-10    0.013039\n",
       "2023-08-11   -0.015753\n",
       "                ...   \n",
       "2025-07-14    0.012019\n",
       "2025-07-15    0.011805\n",
       "2025-07-16    0.010160\n",
       "2025-07-17    0.009773\n",
       "2025-07-18    0.011215\n",
       "Length: 460, dtype: float64"
      ]
     },
     "execution_count": 51,
     "metadata": {},
     "output_type": "execute_result"
    }
   ],
   "source": [
    "days = 10\n",
    "portfolioLogreturnRolling = portfolioLogreturn.rolling(window=days).sum()\n",
    "portfolioLogreturnRolling = portfolioLogreturnRolling.dropna()\n",
    "portfolioLogreturnRolling\n",
    "\n"
   ]
  },
  {
   "cell_type": "markdown",
   "id": "c6ebb14f",
   "metadata": {},
   "source": [
    "set up the confidence interval and calculate the Var\n",
    "days goes up, loss goes up\n",
    "CI goes up, loss goes up"
   ]
  },
  {
   "cell_type": "code",
   "execution_count": 53,
   "id": "c0a6643a",
   "metadata": {},
   "outputs": [
    {
     "data": {
      "text/plain": [
       "-39026.51030209403"
      ]
     },
     "execution_count": 53,
     "metadata": {},
     "output_type": "execute_result"
    }
   ],
   "source": [
    "CI = 0.99\n",
    "VaR = portfolio * (math.exp(np.percentile(portfolioLogreturnRolling,100-CI*100)) - 1)\n",
    "VaR\n"
   ]
  },
  {
   "cell_type": "markdown",
   "id": "c15fd192",
   "metadata": {},
   "source": [
    "Calculate the daily Var"
   ]
  },
  {
   "cell_type": "code",
   "execution_count": 55,
   "id": "ac1bf1a1",
   "metadata": {},
   "outputs": [
    {
     "data": {
      "text/plain": [
       "Date\n",
       "2023-08-18    -69374.849023\n",
       "2023-08-21   -131348.497255\n",
       "2023-08-22   -167267.996532\n",
       "2023-08-23   -209725.061795\n",
       "2023-08-24   -248265.202196\n",
       "                  ...      \n",
       "2025-07-14    150098.155978\n",
       "2025-07-15    150195.228203\n",
       "2025-07-16    148578.382191\n",
       "2025-07-17    136806.407562\n",
       "2025-07-18    124540.213275\n",
       "Length: 451, dtype: float64"
      ]
     },
     "execution_count": 55,
     "metadata": {},
     "output_type": "execute_result"
    }
   ],
   "source": [
    "return_windows = days\n",
    "historyReturnrolling = portfolioLogreturnRolling.rolling(window=days).sum()\n",
    "historyReturnrolling = historyReturnrolling.dropna()\n",
    "PortfolioReturn = portfolio * (np.exp(historyReturnrolling) - 1)\n",
    "PortfolioReturn"
   ]
  },
  {
   "cell_type": "markdown",
   "id": "029d3811",
   "metadata": {},
   "source": [
    "Let's visualize the graph"
   ]
  },
  {
   "cell_type": "code",
   "execution_count": 57,
   "id": "0345dbf2",
   "metadata": {},
   "outputs": [
    {
     "data": {
      "image/png": "[encoded data removed]",
      "text/plain": [
       "<Figure size 640x480 with 1 Axes>"
      ]
     },
     "metadata": {},
     "output_type": "display_data"
    }
   ],
   "source": [
    "# Plotting\n",
    "sns.histplot(PortfolioReturn, kde=True, color='blue')\n",
    "plt.xlabel(f'{return_windows}-day Portfolio Return')\n",
    "plt.ylabel('Frequency / Count')\n",
    "plt.title(f'Portfolio Returns over {return_windows} Days')\n",
    "plt.axvline(\n",
    "    VaR,\n",
    "    color='r',\n",
    "    linestyle='dashed',\n",
    "    linewidth=2,\n",
    "    label=f'VaR at {CI:.0%}'\n",
    ")\n",
    "plt.legend()\n",
    "# Ensure Chinese font support and correct minus sign rendering (can remove if not needed)\n",
    "plt.rcParams['font.sans-serif'] = ['SimSun']\n",
    "plt.rcParams['axes.unicode_minus'] = False\n",
    "plt.show()\n"
   ]
  },
  {
   "cell_type": "code",
   "execution_count": null,
   "id": "bf05e7de",
   "metadata": {},
   "outputs": [],
   "source": []
  }
 ],
 "metadata": {
  "kernelspec": {
   "display_name": "Python 3",
   "language": "python",
   "name": "python3"
  },
  "language_info": {
   "codemirror_mode": {
    "name": "ipython",
    "version": 3
   },
   "file_extension": ".py",
   "mimetype": "text/x-python",
   "name": "python",
   "nbconvert_exporter": "python",
   "pygments_lexer": "ipython3",
   "version": "3.13.3"
  }
 },
 "nbformat": 4,
 "nbformat_minor": 5
}
